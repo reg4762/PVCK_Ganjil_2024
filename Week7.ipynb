{
  "nbformat": 4,
  "nbformat_minor": 0,
  "metadata": {
    "colab": {
      "provenance": [],
      "authorship_tag": "ABX9TyOT9fj2zjFiB9LuexS+LNJN",
      "include_colab_link": true
    },
    "kernelspec": {
      "name": "python3",
      "display_name": "Python 3"
    },
    "language_info": {
      "name": "python"
    }
  },
  "cells": [
    {
      "cell_type": "markdown",
      "metadata": {
        "id": "view-in-github",
        "colab_type": "text"
      },
      "source": [
        "<a href=\"https://colab.research.google.com/github/reg4762/PVCK_Ganjil_2024/blob/main/Week7.ipynb\" target=\"_parent\"><img src=\"https://colab.research.google.com/assets/colab-badge.svg\" alt=\"Open In Colab\"/></a>"
      ]
    },
    {
      "cell_type": "markdown",
      "source": [
        "# Job Sheet 7\n",
        "## Nama : Regita Delya Putri\n",
        "## Absen : 21\n",
        "## Nim : 2241720137\n",
        "## Kelas : TI-3F\n",
        "\n",
        "\n",
        "---"
      ],
      "metadata": {
        "id": "Jun4UfoZHrTr"
      }
    },
    {
      "cell_type": "markdown",
      "source": [
        "## Tugas Praktikum"
      ],
      "metadata": {
        "id": "cpakzI7oYyVw"
      }
    },
    {
      "cell_type": "code",
      "execution_count": null,
      "metadata": {
        "id": "b1YYmZYSHjxp"
      },
      "outputs": [],
      "source": []
    }
  ]
}